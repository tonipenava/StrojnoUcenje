{
 "cells": [
  {
   "cell_type": "code",
   "execution_count": 2,
   "metadata": {},
   "outputs": [
    {
     "name": "stderr",
     "output_type": "stream",
     "text": [
      "C:\\Users\\Admin\\AppData\\Local\\Temp\\ipykernel_16656\\1995088552.py:1: DeprecationWarning: \n",
      "Pyarrow will become a required dependency of pandas in the next major release of pandas (pandas 3.0),\n",
      "(to allow more performant data types, such as the Arrow string type, and better interoperability with other libraries)\n",
      "but was not found to be installed on your system.\n",
      "If this would cause problems for you,\n",
      "please provide us feedback at https://github.com/pandas-dev/pandas/issues/54466\n",
      "        \n",
      "  import pandas as pd\n"
     ]
    },
    {
     "name": "stdout",
     "output_type": "stream",
     "text": [
      "    age  sex   cp  trestbps   chol  fbs  restecg  thalach  exang  oldpeak  \\\n",
      "0  63.0  1.0  1.0     145.0  233.0  1.0      2.0    150.0    0.0      2.3   \n",
      "1  67.0  1.0  4.0     160.0  286.0  0.0      2.0    108.0    1.0      1.5   \n",
      "2  67.0  1.0  4.0     120.0  229.0  0.0      2.0    129.0    1.0      2.6   \n",
      "3  37.0  1.0  3.0     130.0  250.0  0.0      0.0    187.0    0.0      3.5   \n",
      "4  41.0  0.0  2.0     130.0  204.0  0.0      2.0    172.0    0.0      1.4   \n",
      "\n",
      "   slope   ca  thal  target  \n",
      "0    3.0  0.0   6.0       0  \n",
      "1    2.0  3.0   3.0       2  \n",
      "2    2.0  2.0   7.0       1  \n",
      "3    3.0  0.0   3.0       0  \n",
      "4    1.0  0.0   3.0       0  \n"
     ]
    }
   ],
   "source": [
    "\n",
    "import pandas as pd\n",
    "import numpy as np\n",
    "import matplotlib.pyplot as plt\n",
    "import seaborn as sns\n",
    "from sklearn.model_selection import train_test_split\n",
    "from sklearn.preprocessing import StandardScaler\n",
    "from sklearn.linear_model import LogisticRegression\n",
    "from sklearn.neighbors import KNeighborsClassifier\n",
    "from sklearn.svm import SVC\n",
    "from sklearn.metrics import accuracy_score, confusion_matrix, classification_report\n",
    "\n",
    "\n",
    "url = \"https://archive.ics.uci.edu/ml/machine-learning-databases/heart-disease/processed.cleveland.data\"\n",
    "columns = ['age', 'sex', 'cp', 'trestbps', 'chol', 'fbs', 'restecg', 'thalach', 'exang', 'oldpeak', 'slope', 'ca', 'thal', 'target']\n",
    "data = pd.read_csv(url, header=None, names=columns, na_values='?')\n",
    "\n",
    "\n",
    "print(data.head())\n"
   ]
  },
  {
   "cell_type": "code",
   "execution_count": 3,
   "metadata": {},
   "outputs": [],
   "source": [
    "\n"
   ]
  },
  {
   "cell_type": "code",
   "execution_count": 4,
   "metadata": {},
   "outputs": [],
   "source": [
    "\n",
    "X = data.drop(columns=['target'])\n",
    "y = (data['target'] > 0).astype(int)  \n"
   ]
  },
  {
   "cell_type": "code",
   "execution_count": 5,
   "metadata": {},
   "outputs": [],
   "source": [
    "\n",
    "X_train, X_test, y_train, y_test = train_test_split(X, y, test_size=0.2, random_state=42)\n"
   ]
  },
  {
   "cell_type": "code",
   "execution_count": 6,
   "metadata": {},
   "outputs": [],
   "source": [
    "\n",
    "scaler = StandardScaler()\n",
    "X_train_scaled = scaler.fit_transform(X_train)\n",
    "X_test_scaled = scaler.transform(X_test)"
   ]
  },
  {
   "cell_type": "code",
   "execution_count": 7,
   "metadata": {},
   "outputs": [],
   "source": [
    "\n",
    "log_reg = LogisticRegression(max_iter=10000)\n",
    "log_reg.fit(X_train_scaled, y_train)\n",
    "y_pred_log_reg = log_reg.predict(X_test_scaled)\n"
   ]
  },
  {
   "cell_type": "code",
   "execution_count": 8,
   "metadata": {},
   "outputs": [],
   "source": [
    "\n",
    "knn = KNeighborsClassifier(n_neighbors=5)\n",
    "knn.fit(X_train_scaled, y_train)\n",
    "y_pred_knn = knn.predict(X_test_scaled)"
   ]
  },
  {
   "cell_type": "code",
   "execution_count": 9,
   "metadata": {},
   "outputs": [],
   "source": [
    "\n",
    "svm = SVC()\n",
    "svm.fit(X_train_scaled, y_train)\n",
    "y_pred_svm = svm.predict(X_test_scaled)"
   ]
  },
  {
   "cell_type": "code",
   "execution_count": 10,
   "metadata": {},
   "outputs": [
    {
     "name": "stdout",
     "output_type": "stream",
     "text": [
      "\n",
      "Logistička regresija:\n",
      "Evaluacija za Logistička regresija\n",
      "Točnost: 0.8667\n",
      "Matrica zabune:\n",
      "[[32  4]\n",
      " [ 4 20]]\n",
      "Izvještaj klasifikacije:\n",
      "              precision    recall  f1-score   support\n",
      "\n",
      "           0       0.89      0.89      0.89        36\n",
      "           1       0.83      0.83      0.83        24\n",
      "\n",
      "    accuracy                           0.87        60\n",
      "   macro avg       0.86      0.86      0.86        60\n",
      "weighted avg       0.87      0.87      0.87        60\n",
      "\n",
      "\n",
      "K-Nearest Neighbors:\n",
      "Evaluacija za K-Nearest Neighbors\n",
      "Točnost: 0.8333\n",
      "Matrica zabune:\n",
      "[[32  4]\n",
      " [ 6 18]]\n",
      "Izvještaj klasifikacije:\n",
      "              precision    recall  f1-score   support\n",
      "\n",
      "           0       0.84      0.89      0.86        36\n",
      "           1       0.82      0.75      0.78        24\n",
      "\n",
      "    accuracy                           0.83        60\n",
      "   macro avg       0.83      0.82      0.82        60\n",
      "weighted avg       0.83      0.83      0.83        60\n",
      "\n",
      "\n",
      "Support Vector Machine:\n",
      "Evaluacija za Support Vector Machine\n",
      "Točnost: 0.8833\n",
      "Matrica zabune:\n",
      "[[33  3]\n",
      " [ 4 20]]\n",
      "Izvještaj klasifikacije:\n",
      "              precision    recall  f1-score   support\n",
      "\n",
      "           0       0.89      0.92      0.90        36\n",
      "           1       0.87      0.83      0.85        24\n",
      "\n",
      "    accuracy                           0.88        60\n",
      "   macro avg       0.88      0.88      0.88        60\n",
      "weighted avg       0.88      0.88      0.88        60\n",
      "\n"
     ]
    }
   ],
   "source": [
    "\n",
    "def evaluate_model(y_test, y_pred, model_name):\n",
    "    print(f\"Evaluacija za {model_name}\")\n",
    "    print(f\"Točnost: {accuracy_score(y_test, y_pred):.4f}\")\n",
    "    print(\"Matrica zabune:\")\n",
    "    print(confusion_matrix(y_test, y_pred))\n",
    "    print(\"Izvještaj klasifikacije:\")\n",
    "    print(classification_report(y_test, y_pred))\n",
    "\n",
    "print(\"\\nLogistička regresija:\")\n",
    "evaluate_model(y_test, y_pred_log_reg, \"Logistička regresija\")\n",
    "\n",
    "print(\"\\nK-Nearest Neighbors:\")\n",
    "evaluate_model(y_test, y_pred_knn, \"K-Nearest Neighbors\")\n",
    "\n",
    "print(\"\\nSupport Vector Machine:\")\n",
    "evaluate_model(y_test, y_pred_svm, \"Support Vector Machine\")\n"
   ]
  },
  {
   "cell_type": "code",
   "execution_count": 11,
   "metadata": {},
   "outputs": [
    {
     "data": {
      "image/png": "[encoded data removed]",
      "text/plain": [
       "<Figure size 1000x600 with 1 Axes>"
      ]
     },
     "metadata": {},
     "output_type": "display_data"
    }
   ],
   "source": [
    "\n",
    "algorithms = ['Logistička regresija', 'K-Nearest Neighbors', 'Support Vector Machine']\n",
    "accuracies = [accuracy_score(y_test, y_pred_log_reg), accuracy_score(y_test, y_pred_knn), accuracy_score(y_test, y_pred_svm)]\n",
    "\n",
    "plt.figure(figsize=(10, 6))\n",
    "sns.barplot(x=algorithms, y=accuracies)\n",
    "plt.xlabel('Algoritmi')\n",
    "plt.ylabel('Točnost')\n",
    "plt.title('Usporedba točnosti različitih algoritama klasifikacije')\n",
    "plt.ylim(0, 1)\n",
    "plt.show()"
   ]
  },
  {
   "cell_type": "code",
   "execution_count": 12,
   "metadata": {},
   "outputs": [
    {
     "name": "stdout",
     "output_type": "stream",
     "text": [
      "\n",
      "Predikcije za nekoliko primjera iz testnog skupa:\n",
      "Primjer 1: Prave vrijednosti = 0, Predikcija Logističke regresije = 0, Predikcija KNN = 0, Predikcija SVM = 0\n",
      "Primjer 2: Prave vrijednosti = 1, Predikcija Logističke regresije = 0, Predikcija KNN = 0, Predikcija SVM = 0\n",
      "Primjer 3: Prave vrijednosti = 0, Predikcija Logističke regresije = 0, Predikcija KNN = 0, Predikcija SVM = 0\n",
      "Primjer 4: Prave vrijednosti = 1, Predikcija Logističke regresije = 1, Predikcija KNN = 1, Predikcija SVM = 1\n",
      "Primjer 5: Prave vrijednosti = 0, Predikcija Logističke regresije = 0, Predikcija KNN = 0, Predikcija SVM = 0\n",
      "Primjer 6: Prave vrijednosti = 0, Predikcija Logističke regresije = 0, Predikcija KNN = 0, Predikcija SVM = 0\n",
      "Primjer 7: Prave vrijednosti = 0, Predikcija Logističke regresije = 0, Predikcija KNN = 0, Predikcija SVM = 0\n",
      "Primjer 8: Prave vrijednosti = 0, Predikcija Logističke regresije = 1, Predikcija KNN = 1, Predikcija SVM = 1\n",
      "Primjer 9: Prave vrijednosti = 1, Predikcija Logističke regresije = 1, Predikcija KNN = 1, Predikcija SVM = 1\n",
      "Primjer 10: Prave vrijednosti = 0, Predikcija Logističke regresije = 0, Predikcija KNN = 0, Predikcija SVM = 0\n"
     ]
    }
   ],
   "source": [
    "print(\"\\nPredikcije za nekoliko primjera iz testnog skupa:\")\n",
    "for i in range(10):\n",
    "    print(f\"Primjer {i+1}: Prave vrijednosti = {y_test.iloc[i]}, Predikcija Logističke regresije = {y_pred_log_reg[i]}, Predikcija KNN = {y_pred_knn[i]}, Predikcija SVM = {y_pred_svm[i]}\")\n"
   ]
  }
 ],
 "metadata": {
  "kernelspec": {
   "display_name": "Python 3",
   "language": "python",
   "name": "python3"
  },
  "language_info": {
   "codemirror_mode": {
    "name": "ipython",
    "version": 3
   },
   "file_extension": ".py",
   "mimetype": "text/x-python",
   "name": "python",
   "nbconvert_exporter": "python",
   "pygments_lexer": "ipython3",
   "version": "3.9.2"
  }
 },
 "nbformat": 4,
 "nbformat_minor": 2
}
